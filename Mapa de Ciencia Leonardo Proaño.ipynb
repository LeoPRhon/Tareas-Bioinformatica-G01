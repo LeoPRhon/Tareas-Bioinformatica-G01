{
 "cells": [
  {
   "cell_type": "markdown",
   "metadata": {},
   "source": [
    "En primer lugar vamos a importar las librerias necesarias para leer los documentos con los formatos correspondientes."
   ]
  },
  {
   "cell_type": "code",
   "execution_count": 3,
   "metadata": {},
   "outputs": [],
   "source": [
    "import re\n",
    "import csv\n",
    "import itertools"
   ]
  },
  {
   "cell_type": "markdown",
   "metadata": {},
   "source": [
    "Ahora leemos todo el archivo y lo almacenamos en un string."
   ]
  },
  {
   "cell_type": "code",
   "execution_count": 4,
   "metadata": {},
   "outputs": [],
   "source": [
    "with open('./data/pubmed-exendin-4-set.txt', encoding=\"utf8\") as f:\n",
    "    my_text = f.read()"
   ]
  },
  {
   "cell_type": "markdown",
   "metadata": {},
   "source": [
    "Ahora, el método len() devuelve la longitud de la lista de artículos científicos sobre la exendin-4."
   ]
  },
  {
   "cell_type": "code",
   "execution_count": 5,
   "metadata": {},
   "outputs": [
    {
     "data": {
      "text/plain": [
       "13090547"
      ]
     },
     "execution_count": 5,
     "metadata": {},
     "output_type": "execute_result"
    }
   ],
   "source": [
    "len(my_text)"
   ]
  },
  {
   "cell_type": "markdown",
   "metadata": {},
   "source": [
    "Para evitar problemas con el zipcode del archivo txt, se sustituye cada nueva línea seguida de 6 espacios por un solo espacio."
   ]
  },
  {
   "cell_type": "code",
   "execution_count": 6,
   "metadata": {},
   "outputs": [],
   "source": [
    "my_text = re.sub(r'\\n\\s{6}', ' ', my_text)"
   ]
  },
  {
   "cell_type": "markdown",
   "metadata": {},
   "source": [
    "Ahora visualizamos las modificaciones que hicimos en el archivo my text sobre los zipcode."
   ]
  },
  {
   "cell_type": "code",
   "execution_count": 7,
   "metadata": {},
   "outputs": [
    {
     "name": "stdout",
     "output_type": "stream",
     "text": [
      "PMID- 31070270\n",
      "OWN - NLM\n",
      "STAT- MEDLINE\n",
      "DCOM- 20200511\n",
      "LR  - 20210109\n",
      "IS  - 1099-1344 (Electronic)\n",
      "IS  - 0362-4803 (Print)\n",
      "IS  - 0362-4803 (Linking)\n",
      "VI  - 62\n",
      "IP  - 10\n",
      "DP  - 2019 Aug\n",
      "TI  - Exendin-4 analogs in insulinoma theranostics.\n",
      "PG  - 656-672\n",
      "LID - 10.1002/jlcr.3750 [doi]\n",
      "AB  - Insulinomas, neuroendocrine tumors arising from pancreatic beta cells, often show  overexpression of the glucagon-like peptide-1 receptor. Therefore, imaging with  glucagon-like peptide analog exendin-4 can be used for diagnosis and preoperative  localization. This review presents an overview of the development and clinical  implementation of exendin-based tracers for nuclear imaging, and the potential use  of exendin-4 based tracers for optical imaging and therapeutic applications such as  peptide receptor radionuclide therapy or targeted photodynamic therapy.\n",
      "CI  - © 2019 The Authors Journal of Labelled Compounds and Radiopharmaceuticals Published  by John Wiley & Sons Ltd.\n",
      "FAU - Jansen, Tom J P\n",
      "AU  - Jansen TJP\n",
      "AUID- ORCID: 0000-0002-6466-7838\n",
      "AD  - Department of Radiology and Nuclear Medicine, Radboudumc, Nijmegen, The Netherlands.\n",
      "FAU - van Lith, Sanne A M\n",
      "AU  - van Lith SAM\n",
      "AD  - Department of Radiology and Nuclear Medicine, Radboudumc, Nijmegen, The Netherlands.\n",
      "FAU - Boss, Marti\n",
      "AU  - Boss M\n",
      "AD  - Department of Radiology and Nuclear Medicine, Radboudumc, Nijmegen, The Netherlands.\n",
      "FAU - Brom, Maarten\n",
      "AU  - Brom M\n",
      "AD  - Department of Radiology and Nuclear Medicine, Radboudumc, Nijmegen, The Netherlands.\n",
      "FAU - Joosten, Lieke\n",
      "AU  - Joosten L\n",
      "AD  - Department of Radiology and Nuclear Medicine, Radboudumc, Nijmegen, The Netherlands.\n",
      "FAU - Béhé, Martin\n",
      "AU  - Béhé M\n",
      "AD  - Center for Radiopharmaceutical Sciences ETH-PSI-USZ, Paul Scherrer Institute,  Villigen, Switzerland.\n",
      "FAU - Buitinga, Mijke\n",
      "AU  - Buitinga M\n",
      "AD  - Department of Radiology and Nuclear Medicine, Radboudumc, Nijmegen, The Netherlands.\n",
      "AD  - Department of Clinical and Experimental Medicine, KU Leuven, Leuven, Belgium.\n",
      "FAU -\n"
     ]
    }
   ],
   "source": [
    "print(my_text[:2000])"
   ]
  },
  {
   "cell_type": "markdown",
   "metadata": {},
   "source": [
    "A continuación, creamos una nueva lista con los zipcodes."
   ]
  },
  {
   "cell_type": "code",
   "execution_count": 8,
   "metadata": {},
   "outputs": [
    {
     "data": {
      "text/plain": [
       "['',\n",
       " 'The Netherlands',\n",
       " 'Switzerland',\n",
       " 'Belgium',\n",
       " 'Malaysia',\n",
       " 'PR China',\n",
       " 'Korea',\n",
       " 'India',\n",
       " 'USA',\n",
       " 'Turkey',\n",
       " 'Japan',\n",
       " 'Republic of Korea',\n",
       " 'Poland',\n",
       " 'China',\n",
       " 'Canada',\n",
       " 'Germany',\n",
       " ' PR China',\n",
       " 'Xinjiang 833200,China',\n",
       " 'thus reduces fibrosis and prevents the activation of β-catenin and  collagen deposition',\n",
       " 'Saudi Arabia']"
      ]
     },
     "execution_count": 8,
     "metadata": {},
     "output_type": "execute_result"
    }
   ],
   "source": [
    "zipcodes = re.findall(r'AD.+, (.+[a-z-A-Z]).  ?Electronic|AD.+, (.+[a-z-A-Z]).  [^\\s<>\"]+@[^\\s<>\"]+|AD.+, (.+[a-z-A-Z]). [^\\s<>\"]+@[^\\s<>\"]+|AD.+,  ?(.+[a-z-A-Z]).?|', my_text)\n",
    "\n",
    "flat_list = itertools.chain(*zipcodes)\n",
    "flat_list=list(flat_list)\n",
    "flat_list\n",
    "\n",
    "resultantList = [] \n",
    "for element in flat_list:\n",
    "    if element not in resultantList:\n",
    "        resultantList.append(element)\n",
    "\n",
    "resultantList[:20]"
   ]
  },
  {
   "cell_type": "markdown",
   "metadata": {},
   "source": [
    "Luego, mediante len() vemos la longitud de la nueva lista"
   ]
  },
  {
   "cell_type": "code",
   "execution_count": 9,
   "metadata": {},
   "outputs": [
    {
     "data": {
      "text/plain": [
       "773"
      ]
     },
     "execution_count": 9,
     "metadata": {},
     "output_type": "execute_result"
    }
   ],
   "source": [
    "len(resultantList)"
   ]
  },
  {
   "cell_type": "markdown",
   "metadata": {},
   "source": []
  },
  {
   "cell_type": "code",
   "execution_count": 10,
   "metadata": {},
   "outputs": [
    {
     "data": {
      "text/plain": [
       "['',\n",
       " ' Alabama 35294,. Electronic address',\n",
       " ' Austria',\n",
       " ' Belgium',\n",
       " ' Canada',\n",
       " ' Chin',\n",
       " ' China',\n",
       " ' Croatia',\n",
       " ' Egypt',\n",
       " ' España']"
      ]
     },
     "execution_count": 10,
     "metadata": {},
     "output_type": "execute_result"
    }
   ],
   "source": [
    "unique_zipcodes = list(set(resultantList))\n",
    "unique_zipcodes.sort()\n",
    "unique_zipcodes[:10]"
   ]
  },
  {
   "cell_type": "markdown",
   "metadata": {},
   "source": [
    "Después, mostramos la lista modificada con los códigos de unique zipcodes."
   ]
  },
  {
   "cell_type": "code",
   "execution_count": 11,
   "metadata": {},
   "outputs": [
    {
     "data": {
      "text/plain": [
       "773"
      ]
     },
     "execution_count": 11,
     "metadata": {},
     "output_type": "execute_result"
    }
   ],
   "source": [
    "len(unique_zipcodes)"
   ]
  },
  {
   "cell_type": "markdown",
   "metadata": {},
   "source": [
    "Luego, llamamos un nuevo módulo para trabajar con el archivo csv de los países."
   ]
  },
  {
   "cell_type": "code",
   "execution_count": 18,
   "metadata": {},
   "outputs": [
    {
     "ename": "ModuleNotFoundError",
     "evalue": "No module named 'pandas'",
     "output_type": "error",
     "traceback": [
      "\u001b[1;31m---------------------------------------------------------------------------\u001b[0m",
      "\u001b[1;31mModuleNotFoundError\u001b[0m                       Traceback (most recent call last)",
      "\u001b[1;32md:\\Documentos\\GitHub\\Tareas-Bioinformatica-G01\\Mapa de Ciencia Leonardo Proaño.ipynb Cell 20'\u001b[0m in \u001b[0;36m<module>\u001b[1;34m\u001b[0m\n\u001b[1;32m----> <a href='vscode-notebook-cell:/d%3A/Documentos/GitHub/Tareas-Bioinformatica-G01/Mapa%20de%20Ciencia%20Leonardo%20Proa%C3%B1o.ipynb#ch0000019?line=0'>1</a>\u001b[0m \u001b[39mimport\u001b[39;00m \u001b[39mpandas\u001b[39;00m \u001b[39mas\u001b[39;00m \u001b[39mpd\u001b[39;00m\n\u001b[0;32m      <a href='vscode-notebook-cell:/d%3A/Documentos/GitHub/Tareas-Bioinformatica-G01/Mapa%20de%20Ciencia%20Leonardo%20Proa%C3%B1o.ipynb#ch0000019?line=1'>2</a>\u001b[0m data \u001b[39m=\u001b[39m pd\u001b[39m.\u001b[39mread_csv(\u001b[39m'\u001b[39m\u001b[39m./data/countries.csv\u001b[39m\u001b[39m'\u001b[39m, engine\u001b[39m=\u001b[39m\u001b[39m'\u001b[39m\u001b[39mpython\u001b[39m\u001b[39m'\u001b[39m, skipfooter\u001b[39m=\u001b[39m\u001b[39m3\u001b[39m)\n\u001b[0;32m      <a href='vscode-notebook-cell:/d%3A/Documentos/GitHub/Tareas-Bioinformatica-G01/Mapa%20de%20Ciencia%20Leonardo%20Proa%C3%B1o.ipynb#ch0000019?line=2'>3</a>\u001b[0m data\u001b[39m.\u001b[39mhead(\u001b[39m5\u001b[39m)\n",
      "\u001b[1;31mModuleNotFoundError\u001b[0m: No module named 'pandas'"
     ]
    }
   ],
   "source": [
    "import pandas as pd"
   ]
  },
  {
   "cell_type": "markdown",
   "metadata": {},
   "source": [
    "Llamamos data al archivo csv de los países con sus latitudes y longitudes."
   ]
  },
  {
   "cell_type": "code",
   "execution_count": null,
   "metadata": {},
   "outputs": [],
   "source": [
    "data = pd.read_csv('./data/countries.csv', engine='python', skipfooter=3)\n",
    "data.head(5)"
   ]
  }
 ],
 "metadata": {
  "interpreter": {
   "hash": "81ab309234f4a0936d752f98e79b9de7718bdfe1cca3eac2614b37b35b52223c"
  },
  "kernelspec": {
   "display_name": "Python 3.9.10 64-bit (windows store)",
   "language": "python",
   "name": "python3"
  },
  "language_info": {
   "codemirror_mode": {
    "name": "ipython",
    "version": 3
   },
   "file_extension": ".py",
   "mimetype": "text/x-python",
   "name": "python",
   "nbconvert_exporter": "python",
   "pygments_lexer": "ipython3",
   "version": "3.9.10"
  },
  "orig_nbformat": 4
 },
 "nbformat": 4,
 "nbformat_minor": 2
}
