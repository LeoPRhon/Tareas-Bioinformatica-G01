{
 "cells": [
  {
   "cell_type": "markdown",
   "metadata": {},
   "source": [
    "En primer lugar vamos a importar las librerias necesarias para leer los documentos con los formatos correspondientes."
   ]
  },
  {
   "cell_type": "code",
   "execution_count": 12,
   "metadata": {},
   "outputs": [],
   "source": [
    "import re\n",
    "import csv\n",
    "import itertools"
   ]
  },
  {
   "cell_type": "markdown",
   "metadata": {},
   "source": [
    "Ahora leemos todo el archivo y lo almacenamos en un string."
   ]
  },
  {
   "cell_type": "code",
   "execution_count": 13,
   "metadata": {},
   "outputs": [],
   "source": [
    "with open('./data/pubmed-exendin-4-set.txt', encoding=\"utf8\") as f:\n",
    "    my_text = f.read()"
   ]
  }
 ],
 "metadata": {
  "interpreter": {
   "hash": "81ab309234f4a0936d752f98e79b9de7718bdfe1cca3eac2614b37b35b52223c"
  },
  "kernelspec": {
   "display_name": "Python 3.9.10 64-bit (windows store)",
   "language": "python",
   "name": "python3"
  },
  "language_info": {
   "codemirror_mode": {
    "name": "ipython",
    "version": 3
   },
   "file_extension": ".py",
   "mimetype": "text/x-python",
   "name": "python",
   "nbconvert_exporter": "python",
   "pygments_lexer": "ipython3",
   "version": "3.9.10"
  },
  "orig_nbformat": 4
 },
 "nbformat": 4,
 "nbformat_minor": 2
}
