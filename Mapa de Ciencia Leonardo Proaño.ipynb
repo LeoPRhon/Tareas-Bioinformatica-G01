{
 "cells": [
  {
   "cell_type": "markdown",
   "metadata": {},
   "source": [
    "En primer lugar vamos a importar las librerias necesarias para leer los documentos con los formatos correspondientes."
   ]
  },
  {
   "cell_type": "code",
   "execution_count": 24,
   "metadata": {},
   "outputs": [],
   "source": [
    "import re\n",
    "import csv\n",
    "import itertools"
   ]
  },
  {
   "cell_type": "markdown",
   "metadata": {},
   "source": [
    "Ahora leemos todo el archivo y lo almacenamos en un string."
   ]
  },
  {
   "cell_type": "code",
   "execution_count": 25,
   "metadata": {},
   "outputs": [],
   "source": [
    "with open('./data/pubmed-exendin-4-set.txt', encoding=\"utf8\") as f:\n",
    "    my_text = f.read()"
   ]
  },
  {
   "cell_type": "markdown",
   "metadata": {},
   "source": [
    "Ahora, el método len() devuelve la longitud de la lista de artículos científicos sobre la exendin-4."
   ]
  },
  {
   "cell_type": "code",
   "execution_count": 26,
   "metadata": {},
   "outputs": [
    {
     "data": {
      "text/plain": [
       "13090547"
      ]
     },
     "execution_count": 26,
     "metadata": {},
     "output_type": "execute_result"
    }
   ],
   "source": [
    "len(my_text)"
   ]
  },
  {
   "cell_type": "markdown",
   "metadata": {},
   "source": [
    "Para evitar problemas con el zipcode del archivo txt, se sustituye cada nueva línea seguida de 6 espacios por un solo espacio."
   ]
  },
  {
   "cell_type": "code",
   "execution_count": 27,
   "metadata": {},
   "outputs": [],
   "source": [
    "my_text = re.sub(r'\\n\\s{6}', ' ', my_text)"
   ]
  },
  {
   "cell_type": "markdown",
   "metadata": {},
   "source": [
    "Ahora visualizamos las modificaciones que hicimos en el archivo my text sobre los zipcode."
   ]
  },
  {
   "cell_type": "code",
   "execution_count": 28,
   "metadata": {},
   "outputs": [
    {
     "name": "stdout",
     "output_type": "stream",
     "text": [
      "PMID- 31070270\n",
      "OWN - NLM\n",
      "STAT- MEDLINE\n",
      "DCOM- 20200511\n",
      "LR  - 20210109\n",
      "IS  - 1099-1344 (Electronic)\n",
      "IS  - 0362-4803 (Print)\n",
      "IS  - 0362-4803 (Linking)\n",
      "VI  - 62\n",
      "IP  - 10\n",
      "DP  - 2019 Aug\n",
      "TI  - Exendin-4 analogs in insulinoma theranostics.\n",
      "PG  - 656-672\n",
      "LID - 10.1002/jlcr.3750 [doi]\n",
      "AB  - Insulinomas, neuroendocrine tumors arising from pancreatic beta cells, often show  overexpression of the glucagon-like peptide-1 receptor. Therefore, imaging with  glucagon-like peptide analog exendin-4 can be used for diagnosis and preoperative  localization. This review presents an overview of the development and clinical  implementation of exendin-based tracers for nuclear imaging, and the potential use  of exendin-4 based tracers for optical imaging and therapeutic applications such as  peptide receptor radionuclide therapy or targeted photodynamic therapy.\n",
      "CI  - © 2019 The Authors Journal of Labelled Compounds and Radiopharmaceuticals Published  by John Wiley & Sons Ltd.\n",
      "FAU - Jansen, Tom J P\n",
      "AU  - Jansen TJP\n",
      "AUID- ORCID: 0000-0002-6466-7838\n",
      "AD  - Department of Radiology and Nuclear Medicine, Radboudumc, Nijmegen, The Netherlands.\n",
      "FAU - van Lith, Sanne A M\n",
      "AU  - van Lith SAM\n",
      "AD  - Department of Radiology and Nuclear Medicine, Radboudumc, Nijmegen, The Netherlands.\n",
      "FAU - Boss, Marti\n",
      "AU  - Boss M\n",
      "AD  - Department of Radiology and Nuclear Medicine, Radboudumc, Nijmegen, The Netherlands.\n",
      "FAU - Brom, Maarten\n",
      "AU  - Brom M\n",
      "AD  - Department of Radiology and Nuclear Medicine, Radboudumc, Nijmegen, The Netherlands.\n",
      "FAU - Joosten, Lieke\n",
      "AU  - Joosten L\n",
      "AD  - Department of Radiology and Nuclear Medicine, Radboudumc, Nijmegen, The Netherlands.\n",
      "FAU - Béhé, Martin\n",
      "AU  - Béhé M\n",
      "AD  - Center for Radiopharmaceutical Sciences ETH-PSI-USZ, Paul Scherrer Institute,  Villigen, Switzerland.\n",
      "FAU - Buitinga, Mijke\n",
      "AU  - Buitinga M\n",
      "AD  - Department of Radiology and Nuclear Medicine, Radboudumc, Nijmegen, The Netherlands.\n",
      "AD  - Department of Clinical and Experimental Medicine, KU Leuven, Leuven, Belgium.\n",
      "FAU -\n"
     ]
    }
   ],
   "source": [
    "print(my_text[:2000])"
   ]
  },
  {
   "cell_type": "markdown",
   "metadata": {},
   "source": []
  },
  {
   "cell_type": "code",
   "execution_count": null,
   "metadata": {},
   "outputs": [],
   "source": []
  }
 ],
 "metadata": {
  "interpreter": {
   "hash": "81ab309234f4a0936d752f98e79b9de7718bdfe1cca3eac2614b37b35b52223c"
  },
  "kernelspec": {
   "display_name": "Python 3.9.10 64-bit (windows store)",
   "language": "python",
   "name": "python3"
  },
  "language_info": {
   "codemirror_mode": {
    "name": "ipython",
    "version": 3
   },
   "file_extension": ".py",
   "mimetype": "text/x-python",
   "name": "python",
   "nbconvert_exporter": "python",
   "pygments_lexer": "ipython3",
   "version": "3.9.10"
  },
  "orig_nbformat": 4
 },
 "nbformat": 4,
 "nbformat_minor": 2
}
